{
 "cells": [
  {
   "cell_type": "code",
   "execution_count": 1,
   "id": "c3ffed08",
   "metadata": {},
   "outputs": [],
   "source": [
    "from sklearn.metrics.pairwise import cosine_similarity\n",
    "from sklearn.feature_extraction.text import CountVectorizer\n",
    "from sklearn.preprocessing import MinMaxScaler\n",
    "import pandas as pd\n",
    "import numpy as np"
   ]
  },
  {
   "cell_type": "code",
   "execution_count": 2,
   "id": "7f1cd335",
   "metadata": {},
   "outputs": [],
   "source": [
    "df = pd.read_csv(\"imdb_top_1000.csv\")"
   ]
  },
  {
   "cell_type": "code",
   "execution_count": 4,
   "id": "5dbf2dc4",
   "metadata": {},
   "outputs": [
    {
     "data": {
      "text/plain": [
       "Poster_Link        0\n",
       "Series_Title       0\n",
       "Released_Year      0\n",
       "Certificate      101\n",
       "Runtime            0\n",
       "Genre              0\n",
       "IMDB_Rating        0\n",
       "Overview           0\n",
       "Meta_score       157\n",
       "Director           0\n",
       "Star1              0\n",
       "Star2              0\n",
       "Star3              0\n",
       "Star4              0\n",
       "No_of_Votes        0\n",
       "Gross              0\n",
       "dtype: int64"
      ]
     },
     "execution_count": 4,
     "metadata": {},
     "output_type": "execute_result"
    }
   ],
   "source": [
    "# Cleaning the data\n",
    "df.Gross.fillna(method='ffill',axis=0,inplace=True)\n",
    "df.Gross = df.Gross.str.replace(',','')\n",
    "df.Certificate.dropna(inplace=True)\n",
    "df.Meta_score.dropna(inplace=True)\n",
    "df.isna().sum()"
   ]
  },
  {
   "cell_type": "code",
   "execution_count": 5,
   "id": "90a13e45",
   "metadata": {},
   "outputs": [],
   "source": [
    "# Create a CountVectorizer to convert the Overview column into a sparse matrix\n",
    "vectorizer = CountVectorizer()\n",
    "X_overview = vectorizer.fit_transform(df[\"Overview\"])"
   ]
  },
  {
   "cell_type": "code",
   "execution_count": 6,
   "id": "c83b6206",
   "metadata": {},
   "outputs": [],
   "source": [
    "# Extracting features other than Overview \n",
    "director = df[\"Director\"]\n",
    "star1 = df[\"Star1\"]\n",
    "star2 = df[\"Star2\"]\n",
    "star3 = df[\"Star3\"]\n",
    "star4 = df[\"Star4\"]\n",
    "gross = df[\"Gross\"]\n",
    "imdb_rating = df[\"IMDB_Rating\"]"
   ]
  },
  {
   "cell_type": "code",
   "execution_count": 7,
   "id": "bd97d11c",
   "metadata": {},
   "outputs": [],
   "source": [
    "# Convert the Director, Star1, Star2, Star3, Star4 columns into one-hot encoded features\n",
    "X_director = pd.get_dummies(director)\n",
    "X_star1 = pd.get_dummies(star1)\n",
    "X_star2 = pd.get_dummies(star2)\n",
    "X_star3 = pd.get_dummies(star3)\n",
    "X_star4 = pd.get_dummies(star4)"
   ]
  },
  {
   "cell_type": "code",
   "execution_count": 8,
   "id": "521842c4",
   "metadata": {},
   "outputs": [],
   "source": [
    "# Normalizing the gross and imdb_rating \n",
    "scaler = MinMaxScaler()\n",
    "gross = scaler.fit_transform(np.array(gross).reshape(-1,1))\n",
    "imdb_rating = scaler.fit_transform(np.array(imdb_rating).reshape(-1,1))"
   ]
  },
  {
   "cell_type": "code",
   "execution_count": 9,
   "id": "31f13173",
   "metadata": {},
   "outputs": [],
   "source": [
    "# Combine all the feature matrix to create a final feature matrix\n",
    "X = np.hstack([X_overview.toarray(),X_director.to_numpy(), X_star1.to_numpy(), X_star2.to_numpy(), X_star3.to_numpy(), X_star4.to_numpy(), gross, imdb_rating])"
   ]
  },
  {
   "cell_type": "code",
   "execution_count": 10,
   "id": "3b7987bc",
   "metadata": {},
   "outputs": [],
   "source": [
    "# Compute the cosine similarity between all movies\n",
    "similarities = cosine_similarity(X)"
   ]
  },
  {
   "cell_type": "code",
   "execution_count": 16,
   "id": "e93c26e7",
   "metadata": {},
   "outputs": [],
   "source": [
    "def recommend_movies(movie_title, n=10):\n",
    "    # Create a dictionary that maps each movie to its most similar movies\n",
    "    similar_movies = {i: list(np.argsort(-similarities[i])[1:n+1]) for i in range(df.shape[0])}\n",
    "    # Get the index of the movie\n",
    "    movie_idx = df[df.Series_Title == movie_title].index[0]\n",
    "    # Get the most similar movies\n",
    "    similar_movies_idx = similar_movies[movie_idx]\n",
    "    # Get the movies that are similar to the given movie\n",
    "    similar_movies_title = df.iloc[similar_movies_idx].Series_Title.unique()\n",
    "    # Return the top n similar movies\n",
    "    return similar_movies_title[:n]"
   ]
  },
  {
   "cell_type": "code",
   "execution_count": 17,
   "id": "5b716453",
   "metadata": {},
   "outputs": [
    {
     "data": {
      "text/plain": [
       "array(['Pulp Fiction', 'Brokeback Mountain', 'Forrest Gump', 'Naked',\n",
       "       'The Green Mile'], dtype=object)"
      ]
     },
     "execution_count": 17,
     "metadata": {},
     "output_type": "execute_result"
    }
   ],
   "source": [
    "movie_title = 'Pulp Fiction'\n",
    "\n",
    "recommend_movies(movie_title, n=5)"
   ]
  }
 ],
 "metadata": {
  "kernelspec": {
   "display_name": "Python 3 (ipykernel)",
   "language": "python",
   "name": "python3"
  },
  "language_info": {
   "codemirror_mode": {
    "name": "ipython",
    "version": 3
   },
   "file_extension": ".py",
   "mimetype": "text/x-python",
   "name": "python",
   "nbconvert_exporter": "python",
   "pygments_lexer": "ipython3",
   "version": "3.10.9"
  }
 },
 "nbformat": 4,
 "nbformat_minor": 5
}
